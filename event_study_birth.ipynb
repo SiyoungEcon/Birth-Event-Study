{
  "nbformat": 4,
  "nbformat_minor": 0,
  "metadata": {
    "colab": {
      "provenance": []
    },
    "kernelspec": {
      "name": "python3",
      "display_name": "Python 3"
    },
    "language_info": {
      "name": "python"
    }
  },
  "cells": [
    {
      "cell_type": "code",
      "source": [
        "import pandas as pd\n",
        "import numpy as np\n",
        "import psutil\n",
        "import matplotlib.pyplot as plt\n",
        "import statsmodels.api as sm\n",
        "from linearmodels.panel import PanelOLS\n",
        "from pathlib import Path\n",
        "import math\n",
        "import os, sys\n",
        "\n",
        "notebook_dir = Path().cwd()\n",
        "project_root = notebook_dir.parent\n",
        "sys.path.insert(0, str(project_root))\n",
        "import importlib\n",
        "import user_function as uf"
      ],
      "metadata": {
        "id": "-m73A_rHAZx3"
      },
      "execution_count": null,
      "outputs": []
    },
    {
      "cell_type": "code",
      "source": [
        "path0 = '/mnt/sda1/RA5/data'\n",
        "path1 = '/mnt/sda1/RA5/intermediate/siyoung/Event_study'"
      ],
      "metadata": {
        "id": "CkweZRqHAZ0A"
      },
      "execution_count": null,
      "outputs": []
    },
    {
      "cell_type": "markdown",
      "source": [
        "Random Data"
      ],
      "metadata": {
        "id": "3OU57BVrAfjU"
      }
    },
    {
      "cell_type": "code",
      "source": [
        "ds_random_shc = pd.read_parquet(os.path.join(path0, 'random_hshd_Shc_all_1.parquet'))\n",
        "# Running time: 10m\n",
        "ds_random_shc = uf.clean_data(ds_random_shc)"
      ],
      "metadata": {
        "id": "83q1jGSjAZ2h"
      },
      "execution_count": null,
      "outputs": []
    },
    {
      "cell_type": "code",
      "source": [
        "print(ds_random_shc.shape)\n",
        "shc_hshd_list = ds_random_shc[ds_random_shc['ta_ym'].notna()].HSHD_SEQNO.unique()\n",
        "ds_random_shc = ds_random_shc[ds_random_shc['HSHD_SEQNO'].isin(shc_hshd_list)]\n",
        "print(ds_random_shc.shape)\n",
        "\n",
        "# (227987560, 67)\n",
        "# (187491323, 67)"
      ],
      "metadata": {
        "id": "s7XnuyhyAZ44"
      },
      "execution_count": 2,
      "outputs": []
    },
    {
      "cell_type": "code",
      "source": [
        "ds_random_shc['is_f_20_40'] = (ds_random_shc['SEX'] == 'Female') & (ds_random_shc['AGE'].between(20,40))\n",
        "ds_random_shc['is_m_20_40'] = (ds_random_shc['SEX'] == 'Male') & (ds_random_shc['AGE'].between(20,40))\n",
        "\n",
        "ds_random_shc['hshd_is_two_parents'] = ((ds_random_shc.groupby(['HSHD_SEQNO','BS_YR_MON'])['is_f_20_40'].transform('max') == 1) &\n",
        "                                       (ds_random_shc.groupby(['HSHD_SEQNO','BS_YR_MON'])['is_m_20_40'].transform('max') == 1))\n",
        "ds_random_shc['n_obs'] = ds_random_shc.groupby(['HSHD_SEQNO','BS_YR_MON'])['KEY'].transform('count')\n",
        "\n",
        "ds_random_shc = ds_random_shc[(ds_random_shc['hshd_is_two_parents'] == True) &\n",
        "                              (ds_random_shc['n_obs'] == 2)]\n",
        "ds_random_shc.sort_values(['HSHD_SEQNO','BS_YR_MON','KEY'], inplace = True)\n",
        "\n",
        "\n",
        "# birth 제외하기\n",
        "ds_random_shc['hshd_has_no_birth'] = (ds_random_shc.groupby('HSHD_SEQNO')['shc_ch_birth'].transform('max') == 0)\n",
        "ds_random_shc = ds_random_shc[ds_random_shc['hshd_has_no_birth']]"
      ],
      "metadata": {
        "id": "gFGLhTt2AZ7M"
      },
      "execution_count": null,
      "outputs": []
    },
    {
      "cell_type": "code",
      "source": [
        "print(ds_random_shc.shape)\n",
        "\n",
        "\n",
        "# print(ds_random_shc.shape)"
      ],
      "metadata": {
        "id": "ecdgTKskAZ9X"
      },
      "execution_count": null,
      "outputs": []
    },
    {
      "cell_type": "code",
      "source": [
        "np.save(os.path.join(path1, 'shc_hshd_list.npy'), shc_hshd_list)\n",
        "ds_random_shc.to_parquet(os.path.join(path1,'ds_random_shc.parquet'),index=False, compression='snappy')"
      ],
      "metadata": {
        "id": "6cGKXDBuAZ_4"
      },
      "execution_count": null,
      "outputs": []
    },
    {
      "cell_type": "code",
      "source": [],
      "metadata": {
        "id": "u_SjdePlAaCX"
      },
      "execution_count": null,
      "outputs": []
    },
    {
      "cell_type": "code",
      "source": [
        "ds_random_kcb = pd.read_parquet(os.path.join(path0, 'random_hshd_KCB_all_1.parquet'))\n",
        "ds_random_kcb = uf.kcb_preprocess(ds_random_kcb)\n",
        "ds_random_kcb = uf.clean_data(ds_random_kcb)"
      ],
      "metadata": {
        "id": "gZpGXPzZAaEw"
      },
      "execution_count": null,
      "outputs": []
    },
    {
      "cell_type": "code",
      "source": [
        "shc_hshd_list = np.load(\n",
        "                            os.path.join(path1, \"shc_hshd_list.npy\"),\n",
        "                            allow_pickle=True\n",
        "                        )\n",
        "print(ds_random_kcb.shape)\n",
        "ds_random_kcb = ds_random_kcb[ds_random_kcb.HSHD_SEQNO.isin(shc_hshd_list)]\n",
        "print(ds_random_kcb.shape)\n",
        "\n",
        "\n",
        "# (227987560, 65)\n",
        "# (187491323, 65)"
      ],
      "metadata": {
        "id": "JS0VLRlUAaHU"
      },
      "execution_count": null,
      "outputs": []
    },
    {
      "cell_type": "code",
      "source": [
        "ds_random_kcb['is_f_20_40'] = (ds_random_kcb['SEX'] == 'Female') & (ds_random_kcb['AGE'].between(20,40))\n",
        "ds_random_kcb['is_m_20_40'] = (ds_random_kcb['SEX'] == 'Male') & (ds_random_kcb['AGE'].between(20,40))\n",
        "\n",
        "ds_random_kcb['hshd_is_two_parents'] = ((ds_random_kcb.groupby(['HSHD_SEQNO','BS_YR_MON'])['is_f_20_40'].transform('max') == 1) &\n",
        "                                       (ds_random_kcb.groupby(['HSHD_SEQNO','BS_YR_MON'])['is_m_20_40'].transform('max') == 1))\n",
        "ds_random_kcb['n_obs'] = ds_random_kcb.groupby(['HSHD_SEQNO','BS_YR_MON'])['KEY'].transform('count')\n",
        "\n",
        "ds_random_kcb = ds_random_kcb[(ds_random_kcb['hshd_is_two_parents'] == True) &\n",
        "                              (ds_random_kcb['n_obs'] == 2)]\n",
        "\n",
        "print(ds_random_kcb.shape)\n",
        "\n",
        "# (15462184, 69)"
      ],
      "metadata": {
        "id": "e9mGFQ60AaJl"
      },
      "execution_count": null,
      "outputs": []
    },
    {
      "cell_type": "code",
      "source": [
        "ds_random_hshd = ds_random_kcb.groupby(['HSHD_SEQNO', 'BS_YR_MON']).agg({'ICM':'sum', 'TOT_ASST':'sum'}).reset_index()\n",
        "ds_random_hshd['ICM'] = ds_random_hshd['ICM'].replace(0,np.nan)\n",
        "ds_random_hshd = ds_random_hshd.groupby('HSHD_SEQNO').agg({'ICM':'mean', 'TOT_ASST':'mean'}).reset_index()\n",
        "ds_random_hshd['ICM'] = ds_random_hshd['ICM'].replace(0,np.nan)\n",
        "_, income_bins = pd.qcut(ds_random_hshd['ICM'], q=5, retbins=True, duplicates='drop')\n",
        "_, asset_bins = pd.qcut(ds_random_hshd['TOT_ASST'], q=5, retbins=True, duplicates='drop')\n",
        "\n",
        "kcb_cutoffs = pd.DataFrame({\n",
        "    **{f'ICM_cutoff{i}': [v] for i, v in enumerate(income_bins)},\n",
        "    **{f'TOT_ASST_cutoff{i}': [v] for i, v in enumerate(asset_bins)}})"
      ],
      "metadata": {
        "id": "Giz8Ey8AAaMD"
      },
      "execution_count": null,
      "outputs": []
    },
    {
      "cell_type": "code",
      "source": [
        "kcb_cutoffs.to_excel(os.path.join(path1,'kcb_cutoffs.xlsx'))\n",
        "ds_random_kcb.to_parquet(os.path.join(path1,'ds_random_kcb.parquet'))"
      ],
      "metadata": {
        "id": "t6ByzX77AaOd"
      },
      "execution_count": null,
      "outputs": []
    },
    {
      "cell_type": "code",
      "source": [
        "ds_random_shc = pd.read_parquet(os.path.join(path1,'ds_random_shc.parquet'))\n",
        "ds_random_kcb = pd.read_parquet(os.path.join(path1,'ds_random_kcb.parquet'))\n",
        "print(ds_random_kcb.shape)\n",
        "print(ds_random_shc.shape)\n",
        "\n",
        "# (15462184, 69)\n",
        "# (13976956, 72)\n",
        "\n",
        "\n",
        "ds_random_combined = ds_random_kcb.merge(ds_random_shc, on=['KEY','HSHD_SEQNO','BS_YR_MON'], how='inner')\n",
        "print(ds_random_combined.shape)\n",
        "\n",
        "# (13976956, 138)"
      ],
      "metadata": {
        "id": "M-3TE9omAaRO"
      },
      "execution_count": null,
      "outputs": []
    },
    {
      "cell_type": "code",
      "source": [
        "home_mode = (\n",
        "    ds_random_combined\n",
        "    .groupby(\"HSHD_SEQNO\")[\"HOME_ADM\"]\n",
        "    .agg(lambda x: x.mode().iloc[0])\n",
        "    .reset_index()\n",
        ")\n",
        "home_mode['HOME_ADM'] = home_mode[\"HOME_ADM\"].astype(str)\n",
        "home_mode['HOME_ADM_2'] = home_mode['HOME_ADM'].str[:2]\n",
        "home_mode['HOME_ADM_5'] = home_mode['HOME_ADM'].str[:5]\n",
        "home_mode.rename(columns={'HOME_ADM':'HOME_ADM_b'}, inplace=True)\n",
        "\n",
        "ds_random_combined = ds_random_combined.merge(home_mode, on=['HSHD_SEQNO'], how='left')\n",
        "ds_random_combined.to_parquet(os.path.join(path1,'ds_random_combined.parquet'),index=False, compression='snappy')"
      ],
      "metadata": {
        "id": "tyJ5ez_SAaTj"
      },
      "execution_count": null,
      "outputs": []
    },
    {
      "cell_type": "code",
      "source": [],
      "metadata": {
        "id": "WzgFjlGzAaWH"
      },
      "execution_count": null,
      "outputs": []
    },
    {
      "cell_type": "code",
      "source": [
        "ds_random_skt = (pd.read_parquet(os.path.join(path0,'random_hshd_skt_all_2.parquet'),\n",
        "                columns=['KEY','BS_YR_MON','SEX','AGE','HSHD_SEQNO','GENDER','COMM_SNS_DAY','INFO_PORTAL_DAY']))\n"
      ],
      "metadata": {
        "id": "QlpIxwZSAaZM"
      },
      "execution_count": null,
      "outputs": []
    },
    {
      "cell_type": "code",
      "source": [
        "shc_hshd_list = np.load(\n",
        "                            os.path.join(path1, \"shc_hshd_list.npy\"),\n",
        "                            allow_pickle=True\n",
        "                        )\n",
        "print(ds_random_skt.shape)\n",
        "ds_random_skt = uf.skt_preprocess(ds_random_skt)\n",
        "ds_random_skt = ds_random_skt[ds_random_skt.HSHD_SEQNO.isin(shc_hshd_list)]\n",
        "ds_random_skt = uf.clean_data(ds_random_skt)\n",
        "print(ds_random_skt.shape)\n",
        "\n",
        "# (227987560, 8)\n",
        "# (187491323, 9)"
      ],
      "metadata": {
        "id": "zmEPP-fcAab3"
      },
      "execution_count": null,
      "outputs": []
    },
    {
      "cell_type": "code",
      "source": [
        "ds_random_skt['is_f_20_40'] = (ds_random_skt['SEX'] == 'Female') & (ds_random_skt['AGE'].between(20,40))\n",
        "ds_random_skt['is_m_20_40'] = (ds_random_skt['SEX'] == 'Male') & (ds_random_skt['AGE'].between(20,40))\n",
        "\n",
        "ds_random_skt['hshd_is_two_parents'] = ((ds_random_skt.groupby(['HSHD_SEQNO','BS_YR_MON'])['is_f_20_40'].transform('max') == 1) &\n",
        "                                       (ds_random_skt.groupby(['HSHD_SEQNO','BS_YR_MON'])['is_m_20_40'].transform('max') == 1))\n",
        "ds_random_skt['n_obs'] = ds_random_skt.groupby(['HSHD_SEQNO','BS_YR_MON'])['KEY'].transform('count')\n",
        "\n",
        "ds_random_skt = ds_random_skt[(ds_random_skt['hshd_is_two_parents'] == True) &\n",
        "                              (ds_random_skt['n_obs'] == 2)]\n",
        "\n",
        "print(ds_random_skt.shape)\n",
        "\n",
        "# (15462184, 13)"
      ],
      "metadata": {
        "id": "2EWeTx7qAaeV"
      },
      "execution_count": null,
      "outputs": []
    },
    {
      "cell_type": "code",
      "source": [
        "ds_random_indiv = ds_random_skt.groupby(['KEY']).agg({'COMM_SNS_DAY':'mean', 'INFO_PORTAL_DAY':'mean'}).reset_index()\n",
        "\n",
        "ds_random_combined = pd.read_parquet(os.path.join(path1,'ds_random_combined.parquet'))\n",
        "ds_random_combined = ds_random_combined.merge(ds_random_indiv, on = 'KEY', how='left')\n",
        "\n",
        "ds_random_combined.to_parquet(os.path.join(path1,'ds_random_combined.parquet'),index=False, compression='snappy')"
      ],
      "metadata": {
        "id": "SD0mO--6Aagw"
      },
      "execution_count": null,
      "outputs": []
    },
    {
      "cell_type": "code",
      "source": [
        "# Cutoff value 구하기\n",
        "\n",
        "_, sns_bins = pd.qcut(ds_random_indiv['COMM_SNS_DAY'], q=2, retbins=True, duplicates='drop')\n",
        "_, portal_bins = pd.qcut(ds_random_indiv['INFO_PORTAL_DAY'], q=2, retbins=True, duplicates='drop')\n",
        "\n",
        "skt_cutoffs = pd.DataFrame({\n",
        "    **{f'sns_cutoff{i}': [v] for i, v in enumerate(sns_bins)},\n",
        "    **{f'portal_cutoff{i}': [v] for i, v in enumerate(portal_bins)}\n",
        "})\n",
        "skt_cutoffs.to_excel(os.path.join(path1,'skt_cutoffs.xlsx'))"
      ],
      "metadata": {
        "id": "lgBaFPC9AajO"
      },
      "execution_count": null,
      "outputs": []
    },
    {
      "cell_type": "code",
      "source": [],
      "metadata": {
        "id": "X0jSBN55Aals"
      },
      "execution_count": null,
      "outputs": []
    },
    {
      "cell_type": "code",
      "source": [],
      "metadata": {
        "id": "kZxuGeyLAaop"
      },
      "execution_count": null,
      "outputs": []
    },
    {
      "cell_type": "code",
      "source": [
        "# Birth Household\n",
        "ds_birth_shc = pd.read_parquet(os.path.join(path0,'shc_birth_Shc_all_1.parquet'))\n",
        "ds_birth_shc['BS_YR_MON'] = pd.to_datetime(ds_birth_shc['BS_YR_MON'].str.strip(), format='%Y%m')\n",
        "print(ds_birth_shc.shape)\n",
        "key_sex_pair = pd.read_parquet(os.path.join(path0, 'shc_birth_KCB_all.parquet'))[['KEY','BS_YR_MON','AGE','SEX']].drop_duplicates()\n",
        "key_sex_pair = uf.clean_data(key_sex_pair)\n",
        "ds_birth_shc = ds_birth_shc.merge(key_sex_pair, on=['KEY','BS_YR_MON'], how='inner')\n",
        "print(ds_birth_shc.shape)\n",
        "\n",
        "birth_hshd_list = ds_birth_shc[ds_birth_shc['ta_ym'].notna()].HSHD_SEQNO.unique()\n",
        "print(ds_birth_shc.shape)\n",
        "ds_birth_shc = ds_birth_shc[ds_birth_shc.HSHD_SEQNO.isin(birth_hshd_list)]\n",
        "print(ds_birth_shc.shape)\n",
        "np.save(os.path.join(path1, 'shc_birth_hshd_list.npy'), birth_hshd_list)"
      ],
      "metadata": {
        "id": "QIKl52y3LVHQ"
      },
      "execution_count": null,
      "outputs": []
    },
    {
      "cell_type": "code",
      "source": [
        "df_hshd_birth_months = pd.read_parquet(os.path.join(path1,'hshd_birth_month.parquet')).drop(columns=['birth_order'])\n",
        "ds_birth_shc = ds_birth_shc.merge(df_hshd_birth_months, on=['HSHD_SEQNO'], how='left')\n",
        "ds_birth_shc['BS_YR_MON_birth'].isna().sum()"
      ],
      "metadata": {
        "id": "DSngb6RPLY13"
      },
      "execution_count": null,
      "outputs": []
    },
    {
      "cell_type": "code",
      "source": [
        "ds_birth_shc['is_f_20_40'] = (ds_birth_shc['SEX'] == 'Female') & (ds_birth_shc['AGE'].between(20,40))\n",
        "ds_birth_shc['is_m_20_40'] = (ds_birth_shc['SEX'] == 'Male') & (ds_birth_shc['AGE'].between(20,40))\n",
        "\n",
        "ds_birth_shc['hshd_is_two_parents'] = ((ds_birth_shc.groupby(['HSHD_SEQNO','BS_YR_MON'])['is_f_20_40'].transform('max') == 1) &\n",
        "                                       (ds_birth_shc.groupby(['HSHD_SEQNO','BS_YR_MON'])['is_m_20_40'].transform('max') == 1))\n",
        "ds_birth_shc['n_obs'] = ds_birth_shc.groupby(['HSHD_SEQNO','BS_YR_MON'])['KEY'].transform('count')\n",
        "\n",
        "ds_birth_shc = ds_birth_shc[(ds_birth_shc['hshd_is_two_parents'] == True) &\n",
        "                              (ds_birth_shc['n_obs'] == 2)]\n",
        "ds_birth_shc.sort_values(['HSHD_SEQNO','BS_YR_MON','KEY'], inplace = True)\n",
        "print(ds_birth_shc.shape)\n",
        "\n",
        "# (5099834, 72)"
      ],
      "metadata": {
        "id": "P933l1NnLY4a"
      },
      "execution_count": null,
      "outputs": []
    },
    {
      "cell_type": "code",
      "source": [],
      "metadata": {
        "id": "P1q6deL2LY6x"
      },
      "execution_count": null,
      "outputs": []
    },
    {
      "cell_type": "code",
      "source": [
        "ds_birth_kcb = pd.read_parquet(os.path.join(path0, 'shc_birth_KCB_all.parquet'))\n",
        "ds_birth_kcb = uf.kcb_preprocess(ds_birth_kcb)\n",
        "ds_birth_kcb = uf.clean_data(ds_birth_kcb)\n",
        "print(ds_birth_kcb.shape)\n",
        "ds_birth_kcb = ds_birth_kcb.loc[ds_birth_kcb.HSHD_SEQNO.isin(birth_hshd_list)]\n",
        "print(ds_birth_kcb.shape)"
      ],
      "metadata": {
        "id": "KYVZj2ScLY89"
      },
      "execution_count": null,
      "outputs": []
    },
    {
      "cell_type": "code",
      "source": [
        "ds_birth_kcb['is_f_20_40'] = (ds_birth_kcb['SEX'] == 'Female') & (ds_birth_kcb['AGE'].between(20,40))\n",
        "ds_birth_kcb['is_m_20_40'] = (ds_birth_kcb['SEX'] == 'Male') & (ds_birth_kcb['AGE'].between(20,40))\n",
        "\n",
        "ds_birth_kcb['hshd_is_two_parents'] = ((ds_birth_kcb.groupby(['HSHD_SEQNO','BS_YR_MON'])['is_f_20_40'].transform('max') == 1) &\n",
        "                                       (ds_birth_kcb.groupby(['HSHD_SEQNO','BS_YR_MON'])['is_m_20_40'].transform('max') == 1))\n",
        "ds_birth_kcb['n_obs'] = ds_birth_kcb.groupby(['HSHD_SEQNO','BS_YR_MON'])['KEY'].transform('count')\n",
        "\n",
        "ds_birth_kcb = ds_birth_kcb[(ds_birth_kcb['hshd_is_two_parents'] == True) &\n",
        "                              (ds_birth_kcb['n_obs'] == 2)]\n",
        "print(ds_birth_kcb.shape)\n",
        "\n",
        "ds_birth_combined = ds_birth_kcb.merge(ds_birth_shc, on=['KEY','HSHD_SEQNO','BS_YR_MON']\n",
        "                                       ,how='inner')\n",
        "print(ds_birth_combined.shape)\n",
        "\n",
        "# (5099834, 139)\n",
        "# (5099834, 208)\n",
        "\n",
        "ds_birth_combined.to_parquet(os.path.join(path1,'ds_birth_combined.parquet'),index=False, compression='snappy')"
      ],
      "metadata": {
        "id": "twRbcnOwLY_B"
      },
      "execution_count": null,
      "outputs": []
    },
    {
      "cell_type": "code",
      "source": [
        "ds_birth_combined['months_from_birth'] = ((ds_birth_combined['BS_YR_MON'].dt.year - ds_birth_combined['BS_YR_MON_birth'].dt.year) * 12 +\n",
        "                                   (ds_birth_combined['BS_YR_MON'].dt.month - ds_birth_combined['BS_YR_MON_birth'].dt.month))\n",
        "\n",
        "ds_birth_combined['max_months_from_birth_before'] = (\n",
        "    ds_birth_combined\n",
        "    .assign(tmp=lambda d: d['months_from_birth'].where(d['months_from_birth'] <= 0))\n",
        "    .groupby('HSHD_SEQNO')['tmp']\n",
        "    .transform('max')\n",
        ")\n",
        "\n",
        "hshd_birth_adm = (ds_birth_combined[ds_birth_combined['months_from_birth']\n",
        "                    == ds_birth_combined['max_months_from_birth_before']]\n",
        "                    [['HSHD_SEQNO','HOME_ADM']].drop_duplicates())\n",
        "\n",
        "hshd_birth_adm['HOME_ADM'] = hshd_birth_adm['HOME_ADM'].astype(str)\n",
        "hshd_birth_adm['HOME_ADM_2'] = hshd_birth_adm['HOME_ADM'].str[:2]\n",
        "hshd_birth_adm['HOME_ADM_5'] = hshd_birth_adm['HOME_ADM'].str[:5]\n",
        "hshd_birth_adm.rename(columns={'HOME_ADM':'HOME_ADM_b'},inplace=True)\n",
        "\n",
        "ds_birth_combined = ds_birth_combined.merge(hshd_birth_adm, on='HSHD_SEQNO', how='left')\n",
        "print(ds_birth_combined.shape)\n",
        "\n",
        "ds_birth_combined.to_parquet(os.path.join(path1,'ds_birth_combined.parquet'),index=False, compression='snappy')\n",
        "\n"
      ],
      "metadata": {
        "id": "0qVgboApLZBg"
      },
      "execution_count": null,
      "outputs": []
    },
    {
      "cell_type": "code",
      "source": [
        "ds_birth_skt = (pd.read_parquet(os.path.join(path0,'shc_birth_skt_all.parquet'),\n",
        "                columns=['KEY','BS_YR_MON','SEX','AGE','HSHD_SEQNO','GENDER','COMM_SNS_DAY','INFO_PORTAL_DAY']))\n",
        "\n",
        "print(ds_birth_skt.shape)\n",
        "ds_birth_skt = uf.skt_preprocess(ds_birth_skt)\n",
        "ds_birth_skt = uf.clean_data(ds_birth_skt)\n",
        "print(ds_birth_skt.shape)"
      ],
      "metadata": {
        "id": "QoF5s8ZVLZD3"
      },
      "execution_count": null,
      "outputs": []
    },
    {
      "cell_type": "code",
      "source": [
        "ds_birth_indiv = ds_birth_skt.groupby('KEY').agg({'COMM_SNS_DAY':'mean', 'INFO_PORTAL_DAY':'mean'})\n",
        "ds_birth_combined = ds_birth_combined.merge(ds_birth_indiv, on='KEY', how = 'left')\n",
        "ds_birth_combined.to_parquet(os.path.join(path1,'ds_birth_combined.parquet'))"
      ],
      "metadata": {
        "id": "3E6UG3oVL7-h"
      },
      "execution_count": null,
      "outputs": []
    },
    {
      "cell_type": "code",
      "source": [
        "ds_random_combined = pd.read_parquet(os.path.join(path1,'ds_random_combined.parquet'))\n",
        "ds_birth_combined = pd.read_parquet(os.path.join(path1,'ds_birth_combined.parquet'))\n",
        "ds_birth_combined['ICM'] = ds_birth_combined['ICM'].replace(0, np.nan)\n",
        "\n",
        "ds_birth_combined['flag_birth'] = 1\n",
        "ds_random_combined['flag_birth'] = 0\n",
        "ds_combined = pd.concat([ds_birth_combined,ds_random_combined], axis=0)\n",
        "ds_combined['birth event'] = (ds_combined['BS_YR_MON'] == ds_combined['BS_YR_MON_birth']).astype('int')\n",
        " # 이상치 제거\n",
        "ds_combined = ds_combined[~ds_combined['HOME_ADM_b'].isna()]\n",
        "ds_combined.to_parquet(os.path.join(path1,'ds_combined.parquet'))"
      ],
      "metadata": {
        "id": "rp8IxnRFL8DZ"
      },
      "execution_count": null,
      "outputs": []
    },
    {
      "cell_type": "code",
      "source": [],
      "metadata": {
        "id": "op3eO9vJL8F0"
      },
      "execution_count": null,
      "outputs": []
    },
    {
      "cell_type": "code",
      "source": [],
      "metadata": {
        "id": "7U5LaiZfMGrH"
      },
      "execution_count": null,
      "outputs": []
    },
    {
      "cell_type": "code",
      "source": [],
      "metadata": {
        "id": "mASjflZqMGtD"
      },
      "execution_count": null,
      "outputs": []
    },
    {
      "cell_type": "markdown",
      "source": [
        "Add heterogeneity"
      ],
      "metadata": {
        "id": "68u2SUWfMG3E"
      }
    },
    {
      "cell_type": "code",
      "source": [
        "# Household ICM & TOT_ASST\n",
        "ds_combined = pd.read_parquet(os.path.join(path1,'ds_combined.parquet'))\n",
        "\n",
        "ds_hshd = ds_combined.groupby(['HSHD_SEQNO','BS_YR_MON']).agg({'ICM':'sum', 'TOT_ASST':'sum'}).reset_index()\n",
        "ds_hshd['ICM'] = ds_hshd['ICM'].replace(0, np.nan)\n",
        "ds_hshd = ds_hshd.groupby('HSHD_SEQNO').agg({'ICM':'mean', 'TOT_ASST':'mean'}).reset_index()\n",
        "ds_hshd['ICM'] = ds_hshd['ICM'].replace(0, np.nan)\n",
        "\n",
        "kcb_cutoffs = pd.read_excel(os.path.join(path1,'kcb_cutoffs.xlsx'))\n",
        "\n",
        "for col in kcb_cutoffs.columns:\n",
        "    ds_hshd[col] = kcb_cutoffs.loc[0,col]\n",
        "\n",
        "income_condition = [\n",
        "    ds_hshd['ICM'].between(0, ds_hshd['ICM_cutoff1'], inclusive= 'left'),\n",
        "    ds_hshd['ICM'].between(ds_hshd['ICM_cutoff1'], ds_hshd['ICM_cutoff2'], inclusive= 'left'),\n",
        "    ds_hshd['ICM'].between(ds_hshd['ICM_cutoff2'], ds_hshd['ICM_cutoff3'], inclusive= 'left'),\n",
        "    ds_hshd['ICM'].between(ds_hshd['ICM_cutoff3'], ds_hshd['ICM_cutoff4'], inclusive= 'left'),\n",
        "    ds_hshd['ICM'].between(ds_hshd['ICM_cutoff4'], np.inf, inclusive= 'left')\n",
        "]\n",
        "\n",
        "asset_condition = [\n",
        "    ds_hshd['TOT_ASST'].between(0, ds_hshd['TOT_ASST_cutoff1'], inclusive= 'left'),\n",
        "    ds_hshd['TOT_ASST'].between(ds_hshd['TOT_ASST_cutoff1'], ds_hshd['TOT_ASST_cutoff2'], inclusive= 'left'),\n",
        "    ds_hshd['TOT_ASST'].between(ds_hshd['TOT_ASST_cutoff2'], ds_hshd['TOT_ASST_cutoff3'], inclusive= 'left'),\n",
        "    ds_hshd['TOT_ASST'].between(ds_hshd['TOT_ASST_cutoff3'], ds_hshd['TOT_ASST_cutoff4'], inclusive= 'left'),\n",
        "    ds_hshd['TOT_ASST'].between(ds_hshd['TOT_ASST_cutoff4'], np.inf, inclusive= 'left')\n",
        "]\n",
        "\n",
        "ds_hshd['ICM quantile'] = np.select(income_condition, [1,2,3,4,5], default = np.nan)\n",
        "ds_hshd['TOT_ASST quantile'] = np.select(asset_condition, [1,2,3,4,5], default = np.nan)\n",
        "ds_hshd = ds_hshd[['HSHD_SEQNO','ICM quantile','TOT_ASST quantile']]\n",
        "ds_combined = ds_combined.merge(ds_hshd, on='HSHD_SEQNO', how='left')\n",
        "\n",
        "print(ds_combined.shape)"
      ],
      "metadata": {
        "id": "NUcUq_vmQYSx"
      },
      "execution_count": null,
      "outputs": []
    },
    {
      "cell_type": "code",
      "source": [
        "# Individual SNS, Portal Usage\n",
        "\n",
        "ds_indiv = ds_combined.groupby('KEY').agg({'COMM_SNS_DAY':'mean', 'INFO_PORTAL_DAY':'mean'}).reset_index()\n",
        "skt_cutoffs = pd.read_excel(os.path.join(path1,'skt_cutoffs.xlsx'))\n",
        "\n",
        "for col in skt_cutoffs:\n",
        "    ds_indiv[col] = skt_cutoffs[col].iloc[0]\n",
        "\n",
        "\n",
        "sns_condition = [\n",
        "    ds_indiv['COMM_SNS_DAY'].between(ds_indiv['sns_cutoff0'], ds_indiv['sns_cutoff1'], inclusive='left'),\n",
        "    ds_indiv['COMM_SNS_DAY'].between(ds_indiv['sns_cutoff1'], ds_indiv['sns_cutoff2'], inclusive='left'),\n",
        "]\n",
        "\n",
        "portal_condition = [\n",
        "    ds_indiv['INFO_PORTAL_DAY'].between(ds_indiv['portal_cutoff0'], ds_indiv['portal_cutoff1'], inclusive='left'),\n",
        "    ds_indiv['INFO_PORTAL_DAY'].between(ds_indiv['portal_cutoff1'], ds_indiv['portal_cutoff2'], inclusive='left'),\n",
        "]\n",
        "\n",
        "ds_indiv['sns_quantile'] = np.select(sns_condition, ['1', '2'], default=pd.NA)\n",
        "ds_indiv['portal_quantile'] = np.select(portal_condition, ['1', '2'], default=pd.NA)\n",
        "\n",
        "\n",
        "ds_indiv = ds_indiv[['KEY','sns_quantile','portal_quantile']]\n",
        "ds_combined = ds_combined.merge(ds_indiv, on='KEY', how='left')"
      ],
      "metadata": {
        "id": "ggYLwAcPQbU5"
      },
      "execution_count": null,
      "outputs": []
    },
    {
      "cell_type": "code",
      "source": [
        "# add 2 digit\n",
        "ds_combined.drop(columns=['HOME_ADM'], inplace=True)\n",
        "ds_combined.rename(columns={'HOME_ADM_b':'HOME_ADM'},inplace=True)\n",
        "ds_combined = uf.add_region(ds_combined, 2, english=True)"
      ],
      "metadata": {
        "id": "cidXDpsGQbW0"
      },
      "execution_count": null,
      "outputs": []
    },
    {
      "cell_type": "code",
      "source": [
        "new_var_name ={\n",
        "    'CD_USE_AMT':'Card Spending AMT',\n",
        "    'SIN_CD_USE_AMT':'Credit Card Spending AMT',\n",
        "    'CHK_CD_USE_AMT': 'Debit Card Spending AMT',\n",
        "    'CD_FUL_USE_AMT': 'Lump-sum Payment AMT',\n",
        "    'CD_INSTL_USE_AMT':'Installment Payment AMT',\n",
        "    'CD_CA_USE_AMT':'Cash Advance AMT',\n",
        "    'CD_ABRD_USE_AMT':'Overseas Card Spending AMT'\n",
        "}\n",
        "\n",
        "ds_combined.rename(columns = new_var_name, inplace = True)\n",
        "ds_combined.to_parquet(os.path.join(path1,'ds_combined.parquet'))"
      ],
      "metadata": {
        "id": "PE-TbomsQgY8"
      },
      "execution_count": null,
      "outputs": []
    },
    {
      "cell_type": "code",
      "source": [],
      "metadata": {
        "id": "7UB2zsjfQgbF"
      },
      "execution_count": null,
      "outputs": []
    }
  ]
}
